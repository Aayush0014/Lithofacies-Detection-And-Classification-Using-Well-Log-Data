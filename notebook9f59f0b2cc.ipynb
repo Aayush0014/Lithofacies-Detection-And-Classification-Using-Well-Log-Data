{
 "cells": [
  {
   "cell_type": "markdown",
   "id": "a63e832e",
   "metadata": {
    "_cell_guid": "b1076dfc-b9ad-4769-8c92-a6c4dae69d19",
    "_uuid": "8f2839f25d086af736a60e9eeb907d3b93b6e0e5",
    "papermill": {
     "duration": 0.007983,
     "end_time": "2023-01-27T11:00:43.014768",
     "exception": false,
     "start_time": "2023-01-27T11:00:43.006785",
     "status": "completed"
    },
    "tags": []
   },
   "source": [
    "## Autoencoder\n",
    "\n",
    "An autoencoder is an unsupervised learning technique for nueral network that learns efficient data representation(encoding) by training the network to ignore signal \"noise\". Autoencoders can be used for image denoising image compression,and,in some cases, even generation of image data."
   ]
  },
  {
   "cell_type": "markdown",
   "id": "55076b6a",
   "metadata": {
    "papermill": {
     "duration": 0.006472,
     "end_time": "2023-01-27T11:00:43.028357",
     "exception": false,
     "start_time": "2023-01-27T11:00:43.021885",
     "status": "completed"
    },
    "tags": []
   },
   "source": [
    "## 1.Image Compression"
   ]
  },
  {
   "cell_type": "markdown",
   "id": "17edd0e9",
   "metadata": {
    "papermill": {
     "duration": 0.006664,
     "end_time": "2023-01-27T11:00:43.041857",
     "exception": false,
     "start_time": "2023-01-27T11:00:43.035193",
     "status": "completed"
    },
    "tags": []
   },
   "source": [
    "## Flow of Autoencoder\n",
    "\n",
    "Input Image ->Encoder -> Compressed Representation ->Decoder->Reconstruct Input Image"
   ]
  },
  {
   "cell_type": "code",
   "execution_count": 1,
   "id": "aedd070b",
   "metadata": {
    "execution": {
     "iopub.execute_input": "2023-01-27T11:00:43.057613Z",
     "iopub.status.busy": "2023-01-27T11:00:43.057034Z",
     "iopub.status.idle": "2023-01-27T11:00:48.089534Z",
     "shell.execute_reply": "2023-01-27T11:00:48.088559Z"
    },
    "papermill": {
     "duration": 5.043616,
     "end_time": "2023-01-27T11:00:48.092149",
     "exception": false,
     "start_time": "2023-01-27T11:00:43.048533",
     "status": "completed"
    },
    "tags": []
   },
   "outputs": [],
   "source": [
    "# Importing Modules\n",
    "import numpy as np\n",
    "import matplotlib.pyplot as plt\n",
    "from keras import Sequential\n",
    "from keras.layers import Dense, Conv2D, MaxPooling2D, UpSampling2D\n",
    "from keras.datasets import mnist"
   ]
  },
  {
   "cell_type": "code",
   "execution_count": 2,
   "id": "93d3996c",
   "metadata": {
    "execution": {
     "iopub.execute_input": "2023-01-27T11:00:48.108151Z",
     "iopub.status.busy": "2023-01-27T11:00:48.107643Z",
     "iopub.status.idle": "2023-01-27T11:00:50.118171Z",
     "shell.execute_reply": "2023-01-27T11:00:50.117046Z"
    },
    "papermill": {
     "duration": 2.02164,
     "end_time": "2023-01-27T11:00:50.121018",
     "exception": false,
     "start_time": "2023-01-27T11:00:48.099378",
     "status": "completed"
    },
    "tags": []
   },
   "outputs": [
    {
     "name": "stdout",
     "output_type": "stream",
     "text": [
      "Downloading data from https://storage.googleapis.com/tensorflow/tf-keras-datasets/mnist.npz\n",
      "11493376/11490434 [==============================] - 1s 0us/step\n",
      "11501568/11490434 [==============================] - 1s 0us/step\n"
     ]
    }
   ],
   "source": [
    "# loading the data\n",
    "(x_train,_),(x_test,_) = mnist.load_data()"
   ]
  },
  {
   "cell_type": "code",
   "execution_count": 3,
   "id": "0c88eee1",
   "metadata": {
    "execution": {
     "iopub.execute_input": "2023-01-27T11:00:50.141934Z",
     "iopub.status.busy": "2023-01-27T11:00:50.141569Z",
     "iopub.status.idle": "2023-01-27T11:00:50.226434Z",
     "shell.execute_reply": "2023-01-27T11:00:50.225214Z"
    },
    "papermill": {
     "duration": 0.09851,
     "end_time": "2023-01-27T11:00:50.229480",
     "exception": false,
     "start_time": "2023-01-27T11:00:50.130970",
     "status": "completed"
    },
    "tags": []
   },
   "outputs": [],
   "source": [
    "# normalizing the image data\n",
    "x_train = x_train.astype('float32')/255\n",
    "x_test = x_test.astype('float32')/255"
   ]
  },
  {
   "cell_type": "code",
   "execution_count": 4,
   "id": "4d5c0fb5",
   "metadata": {
    "execution": {
     "iopub.execute_input": "2023-01-27T11:00:50.251143Z",
     "iopub.status.busy": "2023-01-27T11:00:50.250756Z",
     "iopub.status.idle": "2023-01-27T11:00:50.256262Z",
     "shell.execute_reply": "2023-01-27T11:00:50.255113Z"
    },
    "papermill": {
     "duration": 0.018035,
     "end_time": "2023-01-27T11:00:50.258612",
     "exception": false,
     "start_time": "2023-01-27T11:00:50.240577",
     "status": "completed"
    },
    "tags": []
   },
   "outputs": [],
   "source": [
    "# reshaping the input data for the model\n",
    "x_train = x_train.reshape(len(x_train),28,28,1)\n",
    "x_test = x_test.reshape(len(x_test),28,28,1)"
   ]
  },
  {
   "cell_type": "code",
   "execution_count": 5,
   "id": "ad963e24",
   "metadata": {
    "execution": {
     "iopub.execute_input": "2023-01-27T11:00:50.277786Z",
     "iopub.status.busy": "2023-01-27T11:00:50.277444Z",
     "iopub.status.idle": "2023-01-27T11:00:50.285769Z",
     "shell.execute_reply": "2023-01-27T11:00:50.284795Z"
    },
    "papermill": {
     "duration": 0.020834,
     "end_time": "2023-01-27T11:00:50.288415",
     "exception": false,
     "start_time": "2023-01-27T11:00:50.267581",
     "status": "completed"
    },
    "tags": []
   },
   "outputs": [
    {
     "data": {
      "text/plain": [
       "(10000, 28, 28, 1)"
      ]
     },
     "execution_count": 5,
     "metadata": {},
     "output_type": "execute_result"
    }
   ],
   "source": [
    "x_test.shape"
   ]
  },
  {
   "cell_type": "markdown",
   "id": "4ef4aa72",
   "metadata": {
    "papermill": {
     "duration": 0.008458,
     "end_time": "2023-01-27T11:00:50.305670",
     "exception": false,
     "start_time": "2023-01-27T11:00:50.297212",
     "status": "completed"
    },
    "tags": []
   },
   "source": [
    "## EDA"
   ]
  },
  {
   "cell_type": "code",
   "execution_count": 6,
   "id": "e265fabe",
   "metadata": {
    "execution": {
     "iopub.execute_input": "2023-01-27T11:00:50.326179Z",
     "iopub.status.busy": "2023-01-27T11:00:50.324987Z",
     "iopub.status.idle": "2023-01-27T11:00:50.531223Z",
     "shell.execute_reply": "2023-01-27T11:00:50.530160Z"
    },
    "papermill": {
     "duration": 0.218772,
     "end_time": "2023-01-27T11:00:50.533263",
     "exception": false,
     "start_time": "2023-01-27T11:00:50.314491",
     "status": "completed"
    },
    "tags": []
   },
   "outputs": [
    {
     "data": {
      "image/png": "[encoded data removed]",
      "text/plain": [
       "<Figure size 432x288 with 1 Axes>"
      ]
     },
     "metadata": {
      "needs_background": "light"
     },
     "output_type": "display_data"
    }
   ],
   "source": [
    "index = np.random.randint(len(x_test))\n",
    "plt.imshow(x_test[index].reshape(28,28))\n",
    "plt.gray()"
   ]
  },
  {
   "cell_type": "markdown",
   "id": "25150cc3",
   "metadata": {
    "papermill": {
     "duration": 0.008343,
     "end_time": "2023-01-27T11:00:50.550510",
     "exception": false,
     "start_time": "2023-01-27T11:00:50.542167",
     "status": "completed"
    },
    "tags": []
   },
   "source": [
    "## Model Creation\n"
   ]
  },
  {
   "cell_type": "code",
   "execution_count": 7,
   "id": "ea4239e5",
   "metadata": {
    "execution": {
     "iopub.execute_input": "2023-01-27T11:00:50.568041Z",
     "iopub.status.busy": "2023-01-27T11:00:50.567730Z",
     "iopub.status.idle": "2023-01-27T11:00:53.408058Z",
     "shell.execute_reply": "2023-01-27T11:00:53.406960Z"
    },
    "papermill": {
     "duration": 2.85287,
     "end_time": "2023-01-27T11:00:53.411561",
     "exception": false,
     "start_time": "2023-01-27T11:00:50.558691",
     "status": "completed"
    },
    "tags": []
   },
   "outputs": [
    {
     "name": "stderr",
     "output_type": "stream",
     "text": [
      "2023-01-27 11:00:50.658411: I tensorflow/stream_executor/cuda/cuda_gpu_executor.cc:937] successful NUMA node read from SysFS had negative value (-1), but there must be at least one NUMA node, so returning NUMA node zero\n",
      "2023-01-27 11:00:50.753150: I tensorflow/stream_executor/cuda/cuda_gpu_executor.cc:937] successful NUMA node read from SysFS had negative value (-1), but there must be at least one NUMA node, so returning NUMA node zero\n",
      "2023-01-27 11:00:50.754002: I tensorflow/stream_executor/cuda/cuda_gpu_executor.cc:937] successful NUMA node read from SysFS had negative value (-1), but there must be at least one NUMA node, so returning NUMA node zero\n",
      "2023-01-27 11:00:50.756230: I tensorflow/core/platform/cpu_feature_guard.cc:142] This TensorFlow binary is optimized with oneAPI Deep Neural Network Library (oneDNN) to use the following CPU instructions in performance-critical operations:  AVX2 AVX512F FMA\n",
      "To enable them in other operations, rebuild TensorFlow with the appropriate compiler flags.\n",
      "2023-01-27 11:00:50.756562: I tensorflow/stream_executor/cuda/cuda_gpu_executor.cc:937] successful NUMA node read from SysFS had negative value (-1), but there must be at least one NUMA node, so returning NUMA node zero\n",
      "2023-01-27 11:00:50.757291: I tensorflow/stream_executor/cuda/cuda_gpu_executor.cc:937] successful NUMA node read from SysFS had negative value (-1), but there must be at least one NUMA node, so returning NUMA node zero\n",
      "2023-01-27 11:00:50.757923: I tensorflow/stream_executor/cuda/cuda_gpu_executor.cc:937] successful NUMA node read from SysFS had negative value (-1), but there must be at least one NUMA node, so returning NUMA node zero\n",
      "2023-01-27 11:00:52.947789: I tensorflow/stream_executor/cuda/cuda_gpu_executor.cc:937] successful NUMA node read from SysFS had negative value (-1), but there must be at least one NUMA node, so returning NUMA node zero\n",
      "2023-01-27 11:00:52.948673: I tensorflow/stream_executor/cuda/cuda_gpu_executor.cc:937] successful NUMA node read from SysFS had negative value (-1), but there must be at least one NUMA node, so returning NUMA node zero\n",
      "2023-01-27 11:00:52.949364: I tensorflow/stream_executor/cuda/cuda_gpu_executor.cc:937] successful NUMA node read from SysFS had negative value (-1), but there must be at least one NUMA node, so returning NUMA node zero\n",
      "2023-01-27 11:00:52.949999: I tensorflow/core/common_runtime/gpu/gpu_device.cc:1510] Created device /job:localhost/replica:0/task:0/device:GPU:0 with 15401 MB memory:  -> device: 0, name: Tesla P100-PCIE-16GB, pci bus id: 0000:00:04.0, compute capability: 6.0\n"
     ]
    },
    {
     "name": "stdout",
     "output_type": "stream",
     "text": [
      "Model: \"sequential\"\n",
      "_________________________________________________________________\n",
      "Layer (type)                 Output Shape              Param #   \n",
      "=================================================================\n",
      "conv2d (Conv2D)              (None, 28, 28, 32)        320       \n",
      "_________________________________________________________________\n",
      "max_pooling2d (MaxPooling2D) (None, 14, 14, 32)        0         \n",
      "_________________________________________________________________\n",
      "conv2d_1 (Conv2D)            (None, 14, 14, 16)        4624      \n",
      "_________________________________________________________________\n",
      "max_pooling2d_1 (MaxPooling2 (None, 7, 7, 16)          0         \n",
      "_________________________________________________________________\n",
      "conv2d_2 (Conv2D)            (None, 7, 7, 16)          2320      \n",
      "_________________________________________________________________\n",
      "up_sampling2d (UpSampling2D) (None, 14, 14, 16)        0         \n",
      "_________________________________________________________________\n",
      "conv2d_3 (Conv2D)            (None, 14, 14, 32)        4640      \n",
      "_________________________________________________________________\n",
      "up_sampling2d_1 (UpSampling2 (None, 28, 28, 32)        0         \n",
      "_________________________________________________________________\n",
      "conv2d_4 (Conv2D)            (None, 28, 28, 1)         289       \n",
      "=================================================================\n",
      "Total params: 12,193\n",
      "Trainable params: 12,193\n",
      "Non-trainable params: 0\n",
      "_________________________________________________________________\n"
     ]
    }
   ],
   "source": [
    "model = Sequential([\n",
    "    # encoder network\n",
    "    Conv2D(32,3,activation='relu',padding='same',input_shape=(28,28,1)),\n",
    "    MaxPooling2D(2,padding='same'),\n",
    "    Conv2D(16,3,activation='relu',padding='same'),\n",
    "    MaxPooling2D(2,padding='same'),\n",
    "    \n",
    "    # decoder netwrok\n",
    "    Conv2D(16,3,activation='relu',padding='same'),\n",
    "    UpSampling2D(2),\n",
    "    Conv2D(32,3,activation='relu',padding='same'),\n",
    "    UpSampling2D(2),\n",
    "    \n",
    "    # output layer\n",
    "    Conv2D(1,3,activation='sigmoid',padding='same')\n",
    "    \n",
    "])\n",
    "\n",
    "model.compile(optimizer='adam',loss='binary_crossentropy')\n",
    "model.summary()"
   ]
  },
  {
   "cell_type": "code",
   "execution_count": 8,
   "id": "2b037854",
   "metadata": {
    "execution": {
     "iopub.execute_input": "2023-01-27T11:00:53.430703Z",
     "iopub.status.busy": "2023-01-27T11:00:53.430399Z",
     "iopub.status.idle": "2023-01-27T11:01:39.575985Z",
     "shell.execute_reply": "2023-01-27T11:01:39.575040Z"
    },
    "papermill": {
     "duration": 46.15777,
     "end_time": "2023-01-27T11:01:39.578170",
     "exception": false,
     "start_time": "2023-01-27T11:00:53.420400",
     "status": "completed"
    },
    "tags": []
   },
   "outputs": [
    {
     "name": "stderr",
     "output_type": "stream",
     "text": [
      "2023-01-27 11:00:54.351593: I tensorflow/compiler/mlir/mlir_graph_optimization_pass.cc:185] None of the MLIR Optimization Passes are enabled (registered 2)\n"
     ]
    },
    {
     "name": "stdout",
     "output_type": "stream",
     "text": [
      "Epoch 1/20\n"
     ]
    },
    {
     "name": "stderr",
     "output_type": "stream",
     "text": [
      "2023-01-27 11:00:55.758208: I tensorflow/stream_executor/cuda/cuda_dnn.cc:369] Loaded cuDNN version 8005\n"
     ]
    },
    {
     "name": "stdout",
     "output_type": "stream",
     "text": [
      "235/235 [==============================] - 9s 9ms/step - loss: 0.1694 - val_loss: 0.0867\n",
      "Epoch 2/20\n",
      "235/235 [==============================] - 2s 8ms/step - loss: 0.0826 - val_loss: 0.0787\n",
      "Epoch 3/20\n",
      "235/235 [==============================] - 2s 8ms/step - loss: 0.0774 - val_loss: 0.0753\n",
      "Epoch 4/20\n",
      "235/235 [==============================] - 2s 8ms/step - loss: 0.0752 - val_loss: 0.0737\n",
      "Epoch 5/20\n",
      "235/235 [==============================] - 2s 8ms/step - loss: 0.0738 - val_loss: 0.0726\n",
      "Epoch 6/20\n",
      "235/235 [==============================] - 2s 8ms/step - loss: 0.0728 - val_loss: 0.0717\n",
      "Epoch 7/20\n",
      "235/235 [==============================] - 2s 8ms/step - loss: 0.0720 - val_loss: 0.0717\n",
      "Epoch 8/20\n",
      "235/235 [==============================] - 2s 8ms/step - loss: 0.0714 - val_loss: 0.0705\n",
      "Epoch 9/20\n",
      "235/235 [==============================] - 2s 8ms/step - loss: 0.0709 - val_loss: 0.0701\n",
      "Epoch 10/20\n",
      "235/235 [==============================] - 2s 9ms/step - loss: 0.0705 - val_loss: 0.0697\n",
      "Epoch 11/20\n",
      "235/235 [==============================] - 2s 8ms/step - loss: 0.0701 - val_loss: 0.0693\n",
      "Epoch 12/20\n",
      "235/235 [==============================] - 2s 8ms/step - loss: 0.0698 - val_loss: 0.0691\n",
      "Epoch 13/20\n",
      "235/235 [==============================] - 2s 8ms/step - loss: 0.0695 - val_loss: 0.0687\n",
      "Epoch 14/20\n",
      "235/235 [==============================] - 2s 8ms/step - loss: 0.0692 - val_loss: 0.0685\n",
      "Epoch 15/20\n",
      "235/235 [==============================] - 2s 8ms/step - loss: 0.0690 - val_loss: 0.0683\n",
      "Epoch 16/20\n",
      "235/235 [==============================] - 2s 8ms/step - loss: 0.0688 - val_loss: 0.0684\n",
      "Epoch 17/20\n",
      "235/235 [==============================] - 2s 8ms/step - loss: 0.0686 - val_loss: 0.0682\n",
      "Epoch 18/20\n",
      "235/235 [==============================] - 2s 8ms/step - loss: 0.0684 - val_loss: 0.0678\n",
      "Epoch 19/20\n",
      "235/235 [==============================] - 2s 8ms/step - loss: 0.0682 - val_loss: 0.0676\n",
      "Epoch 20/20\n",
      "235/235 [==============================] - 2s 8ms/step - loss: 0.0681 - val_loss: 0.0675\n"
     ]
    },
    {
     "data": {
      "text/plain": [
       "<keras.callbacks.History at 0x7f51294d7b10>"
      ]
     },
     "execution_count": 8,
     "metadata": {},
     "output_type": "execute_result"
    }
   ],
   "source": [
    "# training the model\n",
    "model.fit(x_train,x_train, epochs=20, batch_size=256, validation_data=(x_test,x_test))"
   ]
  },
  {
   "cell_type": "markdown",
   "id": "a0155e80",
   "metadata": {
    "papermill": {
     "duration": 0.04219,
     "end_time": "2023-01-27T11:01:39.663377",
     "exception": false,
     "start_time": "2023-01-27T11:01:39.621187",
     "status": "completed"
    },
    "tags": []
   },
   "source": [
    "## Visualizing the Results"
   ]
  },
  {
   "cell_type": "code",
   "execution_count": 9,
   "id": "25a84465",
   "metadata": {
    "execution": {
     "iopub.execute_input": "2023-01-27T11:01:39.758935Z",
     "iopub.status.busy": "2023-01-27T11:01:39.758561Z",
     "iopub.status.idle": "2023-01-27T11:01:40.373158Z",
     "shell.execute_reply": "2023-01-27T11:01:40.372147Z"
    },
    "papermill": {
     "duration": 0.664841,
     "end_time": "2023-01-27T11:01:40.375564",
     "exception": false,
     "start_time": "2023-01-27T11:01:39.710723",
     "status": "completed"
    },
    "tags": []
   },
   "outputs": [],
   "source": [
    "# predicting the results from model(getting compressed images)\n",
    "pred = model.predict(x_test)\n"
   ]
  },
  {
   "cell_type": "code",
   "execution_count": 10,
   "id": "efc14671",
   "metadata": {
    "execution": {
     "iopub.execute_input": "2023-01-27T11:01:40.468657Z",
     "iopub.status.busy": "2023-01-27T11:01:40.468269Z",
     "iopub.status.idle": "2023-01-27T11:01:40.654829Z",
     "shell.execute_reply": "2023-01-27T11:01:40.653744Z"
    },
    "papermill": {
     "duration": 0.238639,
     "end_time": "2023-01-27T11:01:40.657849",
     "exception": false,
     "start_time": "2023-01-27T11:01:40.419210",
     "status": "completed"
    },
    "tags": []
   },
   "outputs": [
    {
     "data": {
      "image/png": "[encoded data removed]",
      "text/plain": [
       "<Figure size 432x288 with 1 Axes>"
      ]
     },
     "metadata": {
      "needs_background": "light"
     },
     "output_type": "display_data"
    }
   ],
   "source": [
    "# visualizing the original image\n",
    "index = np.random.randint(len(x_test))\n",
    "plt.imshow(x_test[index].reshape(28,28))\n",
    "plt.gray()"
   ]
  },
  {
   "cell_type": "code",
   "execution_count": 11,
   "id": "990ca56e",
   "metadata": {
    "execution": {
     "iopub.execute_input": "2023-01-27T11:01:40.746655Z",
     "iopub.status.busy": "2023-01-27T11:01:40.744909Z",
     "iopub.status.idle": "2023-01-27T11:01:40.924000Z",
     "shell.execute_reply": "2023-01-27T11:01:40.922980Z"
    },
    "papermill": {
     "duration": 0.225618,
     "end_time": "2023-01-27T11:01:40.926405",
     "exception": false,
     "start_time": "2023-01-27T11:01:40.700787",
     "status": "completed"
    },
    "tags": []
   },
   "outputs": [
    {
     "data": {
      "image/png": "[encoded data removed]",
      "text/plain": [
       "<Figure size 432x288 with 1 Axes>"
      ]
     },
     "metadata": {
      "needs_background": "light"
     },
     "output_type": "display_data"
    }
   ],
   "source": [
    "# visualizing compressed image\n",
    "plt.imshow(pred[index].reshape(28,28))\n",
    "plt.gray()"
   ]
  },
  {
   "cell_type": "code",
   "execution_count": 12,
   "id": "f29012bf",
   "metadata": {
    "execution": {
     "iopub.execute_input": "2023-01-27T11:01:41.013559Z",
     "iopub.status.busy": "2023-01-27T11:01:41.012868Z",
     "iopub.status.idle": "2023-01-27T11:01:41.271694Z",
     "shell.execute_reply": "2023-01-27T11:01:41.270782Z"
    },
    "papermill": {
     "duration": 0.304519,
     "end_time": "2023-01-27T11:01:41.273828",
     "exception": false,
     "start_time": "2023-01-27T11:01:40.969309",
     "status": "completed"
    },
    "tags": []
   },
   "outputs": [
    {
     "data": {
      "text/plain": [
       "<function matplotlib.pyplot.show(close=None, block=None)>"
      ]
     },
     "execution_count": 12,
     "metadata": {},
     "output_type": "execute_result"
    },
    {
     "data": {
      "image/png": "[encoded data removed]",
      "text/plain": [
       "<Figure size 720x288 with 2 Axes>"
      ]
     },
     "metadata": {
      "needs_background": "light"
     },
     "output_type": "display_data"
    }
   ],
   "source": [
    "index = np.random.randint(len(x_test))\n",
    "plt.figure(figsize=(10,4))\n",
    "# displaying original image\n",
    "ax=plt.subplot(1,2,1)\n",
    "plt.imshow(x_test[index].reshape(28,28))\n",
    "plt.gray()\n",
    "\n",
    "\n",
    "# displaying predicted image\n",
    "ax=plt.subplot(1,2,2)\n",
    "plt.imshow(pred[index].reshape(28,28))\n",
    "plt.gray()\n",
    "\n",
    "plt.show"
   ]
  },
  {
   "cell_type": "markdown",
   "id": "b29d8ec9",
   "metadata": {
    "papermill": {
     "duration": 0.042099,
     "end_time": "2023-01-27T11:01:41.358717",
     "exception": false,
     "start_time": "2023-01-27T11:01:41.316618",
     "status": "completed"
    },
    "tags": []
   },
   "source": [
    "## 2.Denoising Image"
   ]
  },
  {
   "cell_type": "markdown",
   "id": "ef00f62b",
   "metadata": {
    "papermill": {
     "duration": 0.048691,
     "end_time": "2023-01-27T11:01:41.450278",
     "exception": false,
     "start_time": "2023-01-27T11:01:41.401587",
     "status": "completed"
    },
    "tags": []
   },
   "source": [
    "## Flow of Autoencoder\n",
    "\n",
    "Noise Image ->Encoder -> Compressed Representation ->Decoder->Reconstruct Input Image"
   ]
  },
  {
   "cell_type": "code",
   "execution_count": 13,
   "id": "c441eaf5",
   "metadata": {
    "execution": {
     "iopub.execute_input": "2023-01-27T11:01:41.632803Z",
     "iopub.status.busy": "2023-01-27T11:01:41.632345Z",
     "iopub.status.idle": "2023-01-27T11:01:42.009966Z",
     "shell.execute_reply": "2023-01-27T11:01:42.009181Z"
    },
    "papermill": {
     "duration": 0.471092,
     "end_time": "2023-01-27T11:01:42.012285",
     "exception": false,
     "start_time": "2023-01-27T11:01:41.541193",
     "status": "completed"
    },
    "tags": []
   },
   "outputs": [],
   "source": [
    "# loading the data\n",
    "(x_train,_),(x_test,_) = mnist.load_data()"
   ]
  },
  {
   "cell_type": "code",
   "execution_count": 14,
   "id": "60338bf3",
   "metadata": {
    "execution": {
     "iopub.execute_input": "2023-01-27T11:01:42.104038Z",
     "iopub.status.busy": "2023-01-27T11:01:42.103667Z",
     "iopub.status.idle": "2023-01-27T11:01:42.180977Z",
     "shell.execute_reply": "2023-01-27T11:01:42.179977Z"
    },
    "papermill": {
     "duration": 0.124094,
     "end_time": "2023-01-27T11:01:42.183601",
     "exception": false,
     "start_time": "2023-01-27T11:01:42.059507",
     "status": "completed"
    },
    "tags": []
   },
   "outputs": [],
   "source": [
    "# normalizing the image data\n",
    "x_train = x_train.astype('float32')/255\n",
    "x_test = x_test.astype('float32')/255"
   ]
  },
  {
   "cell_type": "code",
   "execution_count": 15,
   "id": "8808551d",
   "metadata": {
    "execution": {
     "iopub.execute_input": "2023-01-27T11:01:42.276572Z",
     "iopub.status.busy": "2023-01-27T11:01:42.276216Z",
     "iopub.status.idle": "2023-01-27T11:01:42.280966Z",
     "shell.execute_reply": "2023-01-27T11:01:42.280016Z"
    },
    "papermill": {
     "duration": 0.05171,
     "end_time": "2023-01-27T11:01:42.282854",
     "exception": false,
     "start_time": "2023-01-27T11:01:42.231144",
     "status": "completed"
    },
    "tags": []
   },
   "outputs": [],
   "source": [
    "# reshaping the input data for the model\n",
    "x_train = x_train.reshape(len(x_train),28,28,1)\n",
    "x_test = x_test.reshape(len(x_test),28,28,1)"
   ]
  },
  {
   "cell_type": "markdown",
   "id": "4ac3e87a",
   "metadata": {
    "papermill": {
     "duration": 0.042878,
     "end_time": "2023-01-27T11:01:42.368861",
     "exception": false,
     "start_time": "2023-01-27T11:01:42.325983",
     "status": "completed"
    },
    "tags": []
   },
   "source": [
    "## Adding noise to the image"
   ]
  },
  {
   "cell_type": "code",
   "execution_count": 16,
   "id": "a4ba936b",
   "metadata": {
    "execution": {
     "iopub.execute_input": "2023-01-27T11:01:42.459392Z",
     "iopub.status.busy": "2023-01-27T11:01:42.457349Z",
     "iopub.status.idle": "2023-01-27T11:01:44.037671Z",
     "shell.execute_reply": "2023-01-27T11:01:44.036647Z"
    },
    "papermill": {
     "duration": 1.628317,
     "end_time": "2023-01-27T11:01:44.040135",
     "exception": false,
     "start_time": "2023-01-27T11:01:42.411818",
     "status": "completed"
    },
    "tags": []
   },
   "outputs": [],
   "source": [
    "noise_factor = 0.6\n",
    "x_train_noisy = x_train + noise_factor*np.random.normal(loc=0.0,scale=1.0,size=x_train.shape)\n",
    "x_test_noisy = x_test + noise_factor*np.random.normal(loc=0.0,scale=1.0,size=x_test.shape)"
   ]
  },
  {
   "cell_type": "code",
   "execution_count": 17,
   "id": "da60d834",
   "metadata": {
    "execution": {
     "iopub.execute_input": "2023-01-27T11:01:44.128063Z",
     "iopub.status.busy": "2023-01-27T11:01:44.127055Z",
     "iopub.status.idle": "2023-01-27T11:01:44.132102Z",
     "shell.execute_reply": "2023-01-27T11:01:44.131229Z"
    },
    "papermill": {
     "duration": 0.051089,
     "end_time": "2023-01-27T11:01:44.134118",
     "exception": false,
     "start_time": "2023-01-27T11:01:44.083029",
     "status": "completed"
    },
    "tags": []
   },
   "outputs": [],
   "source": [
    "#x_train[0]"
   ]
  },
  {
   "cell_type": "code",
   "execution_count": 18,
   "id": "8ae60f03",
   "metadata": {
    "execution": {
     "iopub.execute_input": "2023-01-27T11:01:44.223184Z",
     "iopub.status.busy": "2023-01-27T11:01:44.222453Z",
     "iopub.status.idle": "2023-01-27T11:01:44.226656Z",
     "shell.execute_reply": "2023-01-27T11:01:44.225702Z"
    },
    "papermill": {
     "duration": 0.051003,
     "end_time": "2023-01-27T11:01:44.228591",
     "exception": false,
     "start_time": "2023-01-27T11:01:44.177588",
     "status": "completed"
    },
    "tags": []
   },
   "outputs": [],
   "source": [
    "#x_train_noisy[0]"
   ]
  },
  {
   "cell_type": "code",
   "execution_count": 19,
   "id": "eb87c790",
   "metadata": {
    "execution": {
     "iopub.execute_input": "2023-01-27T11:01:44.317279Z",
     "iopub.status.busy": "2023-01-27T11:01:44.316236Z",
     "iopub.status.idle": "2023-01-27T11:01:44.533631Z",
     "shell.execute_reply": "2023-01-27T11:01:44.532598Z"
    },
    "papermill": {
     "duration": 0.264543,
     "end_time": "2023-01-27T11:01:44.536175",
     "exception": false,
     "start_time": "2023-01-27T11:01:44.271632",
     "status": "completed"
    },
    "tags": []
   },
   "outputs": [],
   "source": [
    "# cliping the values in the range 0-1\n",
    "x_train_noisy = np.clip(x_train_noisy,0.,1.)\n",
    "x_test_noisy = np.clip(x_test_noisy,0.,1.)"
   ]
  },
  {
   "cell_type": "code",
   "execution_count": 20,
   "id": "bbbef82a",
   "metadata": {
    "execution": {
     "iopub.execute_input": "2023-01-27T11:01:44.626284Z",
     "iopub.status.busy": "2023-01-27T11:01:44.625854Z",
     "iopub.status.idle": "2023-01-27T11:01:44.803986Z",
     "shell.execute_reply": "2023-01-27T11:01:44.803007Z"
    },
    "papermill": {
     "duration": 0.226379,
     "end_time": "2023-01-27T11:01:44.806406",
     "exception": false,
     "start_time": "2023-01-27T11:01:44.580027",
     "status": "completed"
    },
    "tags": []
   },
   "outputs": [
    {
     "data": {
      "image/png": "[encoded data removed]",
      "text/plain": [
       "<Figure size 432x288 with 1 Axes>"
      ]
     },
     "metadata": {
      "needs_background": "light"
     },
     "output_type": "display_data"
    }
   ],
   "source": [
    "# Original image\n",
    "index = np.random.randint(len(x_test))\n",
    "plt.imshow(x_test[index].reshape(28,28))\n",
    "plt.gray()"
   ]
  },
  {
   "cell_type": "code",
   "execution_count": 21,
   "id": "d6e14a15",
   "metadata": {
    "execution": {
     "iopub.execute_input": "2023-01-27T11:01:44.895535Z",
     "iopub.status.busy": "2023-01-27T11:01:44.895164Z",
     "iopub.status.idle": "2023-01-27T11:01:45.070751Z",
     "shell.execute_reply": "2023-01-27T11:01:45.069837Z"
    },
    "papermill": {
     "duration": 0.221936,
     "end_time": "2023-01-27T11:01:45.072953",
     "exception": false,
     "start_time": "2023-01-27T11:01:44.851017",
     "status": "completed"
    },
    "tags": []
   },
   "outputs": [
    {
     "data": {
      "image/png": "[encoded data removed]",
      "text/plain": [
       "<Figure size 432x288 with 1 Axes>"
      ]
     },
     "metadata": {
      "needs_background": "light"
     },
     "output_type": "display_data"
    }
   ],
   "source": [
    "# Noisy image\n",
    "index = np.random.randint(len(x_test))\n",
    "plt.imshow(x_test_noisy[index].reshape(28,28))\n",
    "plt.gray()"
   ]
  },
  {
   "cell_type": "markdown",
   "id": "2e03dfbe",
   "metadata": {
    "papermill": {
     "duration": 0.042123,
     "end_time": "2023-01-27T11:01:45.157721",
     "exception": false,
     "start_time": "2023-01-27T11:01:45.115598",
     "status": "completed"
    },
    "tags": []
   },
   "source": [
    "## Model Creation"
   ]
  },
  {
   "cell_type": "code",
   "execution_count": 22,
   "id": "1bc3e33c",
   "metadata": {
    "execution": {
     "iopub.execute_input": "2023-01-27T11:01:45.246733Z",
     "iopub.status.busy": "2023-01-27T11:01:45.245786Z",
     "iopub.status.idle": "2023-01-27T11:01:45.309041Z",
     "shell.execute_reply": "2023-01-27T11:01:45.307891Z"
    },
    "papermill": {
     "duration": 0.11216,
     "end_time": "2023-01-27T11:01:45.312423",
     "exception": false,
     "start_time": "2023-01-27T11:01:45.200263",
     "status": "completed"
    },
    "tags": []
   },
   "outputs": [
    {
     "name": "stdout",
     "output_type": "stream",
     "text": [
      "Model: \"sequential_1\"\n",
      "_________________________________________________________________\n",
      "Layer (type)                 Output Shape              Param #   \n",
      "=================================================================\n",
      "conv2d_5 (Conv2D)            (None, 28, 28, 32)        320       \n",
      "_________________________________________________________________\n",
      "max_pooling2d_2 (MaxPooling2 (None, 14, 14, 32)        0         \n",
      "_________________________________________________________________\n",
      "conv2d_6 (Conv2D)            (None, 14, 14, 16)        4624      \n",
      "_________________________________________________________________\n",
      "max_pooling2d_3 (MaxPooling2 (None, 7, 7, 16)          0         \n",
      "_________________________________________________________________\n",
      "conv2d_7 (Conv2D)            (None, 7, 7, 16)          2320      \n",
      "_________________________________________________________________\n",
      "up_sampling2d_2 (UpSampling2 (None, 14, 14, 16)        0         \n",
      "_________________________________________________________________\n",
      "conv2d_8 (Conv2D)            (None, 14, 14, 32)        4640      \n",
      "_________________________________________________________________\n",
      "up_sampling2d_3 (UpSampling2 (None, 28, 28, 32)        0         \n",
      "_________________________________________________________________\n",
      "conv2d_9 (Conv2D)            (None, 28, 28, 1)         289       \n",
      "=================================================================\n",
      "Total params: 12,193\n",
      "Trainable params: 12,193\n",
      "Non-trainable params: 0\n",
      "_________________________________________________________________\n"
     ]
    }
   ],
   "source": [
    "model = Sequential([\n",
    "    # encoder network\n",
    "    Conv2D(32,3,activation='relu',padding='same',input_shape=(28,28,1)),\n",
    "    MaxPooling2D(2,padding='same'),\n",
    "    Conv2D(16,3,activation='relu',padding='same'),\n",
    "    MaxPooling2D(2,padding='same'),\n",
    "    \n",
    "    # decoder netwrok\n",
    "    Conv2D(16,3,activation='relu',padding='same'),\n",
    "    UpSampling2D(2),\n",
    "    Conv2D(32,3,activation='relu',padding='same'),\n",
    "    UpSampling2D(2),\n",
    "    \n",
    "    # output layer\n",
    "    Conv2D(1,3,activation='sigmoid',padding='same')\n",
    "    \n",
    "])\n",
    "\n",
    "model.compile(optimizer='adam',loss='binary_crossentropy')\n",
    "model.summary()"
   ]
  },
  {
   "cell_type": "code",
   "execution_count": 23,
   "id": "27318534",
   "metadata": {
    "execution": {
     "iopub.execute_input": "2023-01-27T11:01:45.402021Z",
     "iopub.status.busy": "2023-01-27T11:01:45.401669Z",
     "iopub.status.idle": "2023-01-27T11:02:24.946971Z",
     "shell.execute_reply": "2023-01-27T11:02:24.945998Z"
    },
    "papermill": {
     "duration": 39.591766,
     "end_time": "2023-01-27T11:02:24.948966",
     "exception": false,
     "start_time": "2023-01-27T11:01:45.357200",
     "status": "completed"
    },
    "tags": []
   },
   "outputs": [
    {
     "name": "stdout",
     "output_type": "stream",
     "text": [
      "Epoch 1/20\n",
      "235/235 [==============================] - 2s 9ms/step - loss: 0.2460 - val_loss: 0.1526\n",
      "Epoch 2/20\n",
      "235/235 [==============================] - 2s 8ms/step - loss: 0.1436 - val_loss: 0.1365\n",
      "Epoch 3/20\n",
      "235/235 [==============================] - 2s 9ms/step - loss: 0.1342 - val_loss: 0.1299\n",
      "Epoch 4/20\n",
      "235/235 [==============================] - 2s 9ms/step - loss: 0.1290 - val_loss: 0.1264\n",
      "Epoch 5/20\n",
      "235/235 [==============================] - 2s 8ms/step - loss: 0.1258 - val_loss: 0.1237\n",
      "Epoch 6/20\n",
      "235/235 [==============================] - 2s 8ms/step - loss: 0.1237 - val_loss: 0.1217\n",
      "Epoch 7/20\n",
      "235/235 [==============================] - 2s 8ms/step - loss: 0.1222 - val_loss: 0.1203\n",
      "Epoch 8/20\n",
      "235/235 [==============================] - 2s 8ms/step - loss: 0.1211 - val_loss: 0.1197\n",
      "Epoch 9/20\n",
      "235/235 [==============================] - 2s 8ms/step - loss: 0.1202 - val_loss: 0.1190\n",
      "Epoch 10/20\n",
      "235/235 [==============================] - 2s 9ms/step - loss: 0.1193 - val_loss: 0.1181\n",
      "Epoch 11/20\n",
      "235/235 [==============================] - 2s 8ms/step - loss: 0.1187 - val_loss: 0.1172\n",
      "Epoch 12/20\n",
      "235/235 [==============================] - 2s 8ms/step - loss: 0.1180 - val_loss: 0.1166\n",
      "Epoch 13/20\n",
      "235/235 [==============================] - 2s 8ms/step - loss: 0.1175 - val_loss: 0.1161\n",
      "Epoch 14/20\n",
      "235/235 [==============================] - 2s 8ms/step - loss: 0.1169 - val_loss: 0.1161\n",
      "Epoch 15/20\n",
      "235/235 [==============================] - 2s 8ms/step - loss: 0.1164 - val_loss: 0.1153\n",
      "Epoch 16/20\n",
      "235/235 [==============================] - 2s 8ms/step - loss: 0.1159 - val_loss: 0.1150\n",
      "Epoch 17/20\n",
      "235/235 [==============================] - 2s 8ms/step - loss: 0.1155 - val_loss: 0.1143\n",
      "Epoch 18/20\n",
      "235/235 [==============================] - 2s 8ms/step - loss: 0.1152 - val_loss: 0.1150\n",
      "Epoch 19/20\n",
      "235/235 [==============================] - 2s 8ms/step - loss: 0.1149 - val_loss: 0.1140\n",
      "Epoch 20/20\n",
      "235/235 [==============================] - 2s 9ms/step - loss: 0.1146 - val_loss: 0.1136\n"
     ]
    },
    {
     "data": {
      "text/plain": [
       "<keras.callbacks.History at 0x7f51274a9b90>"
      ]
     },
     "execution_count": 23,
     "metadata": {},
     "output_type": "execute_result"
    }
   ],
   "source": [
    "# training the model\n",
    "model.fit(x_train_noisy,x_train, epochs=20, batch_size=256, validation_data=(x_test_noisy,x_test))"
   ]
  },
  {
   "cell_type": "code",
   "execution_count": 24,
   "id": "3c59e574",
   "metadata": {
    "execution": {
     "iopub.execute_input": "2023-01-27T11:02:25.108808Z",
     "iopub.status.busy": "2023-01-27T11:02:25.107819Z",
     "iopub.status.idle": "2023-01-27T11:02:25.863197Z",
     "shell.execute_reply": "2023-01-27T11:02:25.862074Z"
    },
    "papermill": {
     "duration": 0.840055,
     "end_time": "2023-01-27T11:02:25.866555",
     "exception": false,
     "start_time": "2023-01-27T11:02:25.026500",
     "status": "completed"
    },
    "tags": []
   },
   "outputs": [],
   "source": [
    "pred = model.predict(x_test)"
   ]
  },
  {
   "cell_type": "code",
   "execution_count": 25,
   "id": "fd4a1ad0",
   "metadata": {
    "execution": {
     "iopub.execute_input": "2023-01-27T11:02:26.075772Z",
     "iopub.status.busy": "2023-01-27T11:02:26.074999Z",
     "iopub.status.idle": "2023-01-27T11:02:26.267791Z",
     "shell.execute_reply": "2023-01-27T11:02:26.266778Z"
    },
    "papermill": {
     "duration": 0.274361,
     "end_time": "2023-01-27T11:02:26.270169",
     "exception": false,
     "start_time": "2023-01-27T11:02:25.995808",
     "status": "completed"
    },
    "tags": []
   },
   "outputs": [
    {
     "data": {
      "image/png": "[encoded data removed]",
      "text/plain": [
       "<Figure size 432x288 with 1 Axes>"
      ]
     },
     "metadata": {
      "needs_background": "light"
     },
     "output_type": "display_data"
    }
   ],
   "source": [
    "# visualizing the noisy image\n",
    "index = np.random.randint(len(x_test))\n",
    "plt.imshow(x_test_noisy[index].reshape(28,28))\n",
    "plt.gray()"
   ]
  },
  {
   "cell_type": "code",
   "execution_count": 26,
   "id": "87f4c85a",
   "metadata": {
    "execution": {
     "iopub.execute_input": "2023-01-27T11:02:26.428798Z",
     "iopub.status.busy": "2023-01-27T11:02:26.428442Z",
     "iopub.status.idle": "2023-01-27T11:02:26.611545Z",
     "shell.execute_reply": "2023-01-27T11:02:26.610620Z"
    },
    "papermill": {
     "duration": 0.264991,
     "end_time": "2023-01-27T11:02:26.613740",
     "exception": false,
     "start_time": "2023-01-27T11:02:26.348749",
     "status": "completed"
    },
    "tags": []
   },
   "outputs": [
    {
     "data": {
      "image/png": "[encoded data removed]",
      "text/plain": [
       "<Figure size 432x288 with 1 Axes>"
      ]
     },
     "metadata": {
      "needs_background": "light"
     },
     "output_type": "display_data"
    }
   ],
   "source": [
    "# visualizing the original image\n",
    "plt.imshow(pred[index].reshape(28,28))\n",
    "plt.gray()"
   ]
  },
  {
   "cell_type": "code",
   "execution_count": 27,
   "id": "63ec4b26",
   "metadata": {
    "execution": {
     "iopub.execute_input": "2023-01-27T11:02:26.774526Z",
     "iopub.status.busy": "2023-01-27T11:02:26.774169Z",
     "iopub.status.idle": "2023-01-27T11:02:27.049889Z",
     "shell.execute_reply": "2023-01-27T11:02:27.048961Z"
    },
    "papermill": {
     "duration": 0.358864,
     "end_time": "2023-01-27T11:02:27.052397",
     "exception": false,
     "start_time": "2023-01-27T11:02:26.693533",
     "status": "completed"
    },
    "tags": []
   },
   "outputs": [
    {
     "data": {
      "text/plain": [
       "<function matplotlib.pyplot.show(close=None, block=None)>"
      ]
     },
     "execution_count": 27,
     "metadata": {},
     "output_type": "execute_result"
    },
    {
     "data": {
      "image/png": "[encoded data removed]",
      "text/plain": [
       "<Figure size 720x288 with 2 Axes>"
      ]
     },
     "metadata": {
      "needs_background": "light"
     },
     "output_type": "display_data"
    }
   ],
   "source": [
    "index = np.random.randint(len(x_test))\n",
    "plt.figure(figsize=(10,4))\n",
    "# displaying original image\n",
    "ax=plt.subplot(1,2,1)\n",
    "plt.imshow(x_test_noisy[index].reshape(28,28))\n",
    "plt.gray()\n",
    "\n",
    "\n",
    "# displaying predicted image\n",
    "ax=plt.subplot(1,2,2)\n",
    "plt.imshow(pred[index].reshape(28,28))\n",
    "plt.gray()\n",
    "\n",
    "plt.show"
   ]
  },
  {
   "cell_type": "code",
   "execution_count": null,
   "id": "80b58397",
   "metadata": {
    "papermill": {
     "duration": 0.08315,
     "end_time": "2023-01-27T11:02:27.214946",
     "exception": false,
     "start_time": "2023-01-27T11:02:27.131796",
     "status": "completed"
    },
    "tags": []
   },
   "outputs": [],
   "source": []
  }
 ],
 "metadata": {
  "kernelspec": {
   "display_name": "Python 3",
   "language": "python",
   "name": "python3"
  },
  "language_info": {
   "codemirror_mode": {
    "name": "ipython",
    "version": 3
   },
   "file_extension": ".py",
   "mimetype": "text/x-python",
   "name": "python",
   "nbconvert_exporter": "python",
   "pygments_lexer": "ipython3",
   "version": "3.7.12"
  },
  "papermill": {
   "default_parameters": {},
   "duration": 115.555744,
   "end_time": "2023-01-27T11:02:30.633356",
   "environment_variables": {},
   "exception": null,
   "input_path": "__notebook__.ipynb",
   "output_path": "__notebook__.ipynb",
   "parameters": {},
   "start_time": "2023-01-27T11:00:35.077612",
   "version": "2.3.4"
  }
 },
 "nbformat": 4,
 "nbformat_minor": 5
}
